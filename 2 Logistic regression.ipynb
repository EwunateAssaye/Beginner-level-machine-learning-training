{
 "cells": [
  {
   "cell_type": "code",
   "execution_count": 2,
   "id": "88698268",
   "metadata": {},
   "outputs": [],
   "source": [
    "import pandas as pd\n",
    "import numpy as np\n",
    "import os"
   ]
  },
  {
   "cell_type": "code",
   "execution_count": 4,
   "id": "03012b38",
   "metadata": {},
   "outputs": [
    {
     "data": {
      "text/html": [
       "<div>\n",
       "<style scoped>\n",
       "    .dataframe tbody tr th:only-of-type {\n",
       "        vertical-align: middle;\n",
       "    }\n",
       "\n",
       "    .dataframe tbody tr th {\n",
       "        vertical-align: top;\n",
       "    }\n",
       "\n",
       "    .dataframe thead th {\n",
       "        text-align: right;\n",
       "    }\n",
       "</style>\n",
       "<table border=\"1\" class=\"dataframe\">\n",
       "  <thead>\n",
       "    <tr style=\"text-align: right;\">\n",
       "      <th></th>\n",
       "      <th>Dificulty</th>\n",
       "      <th>Forgeting</th>\n",
       "      <th>Discontinue</th>\n",
       "      <th>Stop_ADR</th>\n",
       "      <th>Stop_witDr</th>\n",
       "      <th>Discontinuing-OtherMed</th>\n",
       "      <th>hassel</th>\n",
       "      <th>Missing</th>\n",
       "      <th>Altering_</th>\n",
       "      <th>Money</th>\n",
       "      <th>Expensive</th>\n",
       "      <th>Level_Cat</th>\n",
       "    </tr>\n",
       "  </thead>\n",
       "  <tbody>\n",
       "    <tr>\n",
       "      <th>0</th>\n",
       "      <td>3</td>\n",
       "      <td>2</td>\n",
       "      <td>3</td>\n",
       "      <td>3</td>\n",
       "      <td>3</td>\n",
       "      <td>2</td>\n",
       "      <td>2</td>\n",
       "      <td>2</td>\n",
       "      <td>2</td>\n",
       "      <td>1</td>\n",
       "      <td>1</td>\n",
       "      <td>Low Adhe</td>\n",
       "    </tr>\n",
       "    <tr>\n",
       "      <th>1</th>\n",
       "      <td>2</td>\n",
       "      <td>3</td>\n",
       "      <td>2</td>\n",
       "      <td>2</td>\n",
       "      <td>3</td>\n",
       "      <td>2</td>\n",
       "      <td>2</td>\n",
       "      <td>2</td>\n",
       "      <td>1</td>\n",
       "      <td>2</td>\n",
       "      <td>1</td>\n",
       "      <td>Low Adhe</td>\n",
       "    </tr>\n",
       "    <tr>\n",
       "      <th>2</th>\n",
       "      <td>3</td>\n",
       "      <td>3</td>\n",
       "      <td>2</td>\n",
       "      <td>3</td>\n",
       "      <td>3</td>\n",
       "      <td>2</td>\n",
       "      <td>2</td>\n",
       "      <td>2</td>\n",
       "      <td>2</td>\n",
       "      <td>2</td>\n",
       "      <td>3</td>\n",
       "      <td>High Adh</td>\n",
       "    </tr>\n",
       "    <tr>\n",
       "      <th>3</th>\n",
       "      <td>2</td>\n",
       "      <td>3</td>\n",
       "      <td>3</td>\n",
       "      <td>2</td>\n",
       "      <td>3</td>\n",
       "      <td>2</td>\n",
       "      <td>2</td>\n",
       "      <td>3</td>\n",
       "      <td>3</td>\n",
       "      <td>2</td>\n",
       "      <td>2</td>\n",
       "      <td>High Adh</td>\n",
       "    </tr>\n",
       "    <tr>\n",
       "      <th>4</th>\n",
       "      <td>3</td>\n",
       "      <td>2</td>\n",
       "      <td>2</td>\n",
       "      <td>3</td>\n",
       "      <td>3</td>\n",
       "      <td>1</td>\n",
       "      <td>2</td>\n",
       "      <td>1</td>\n",
       "      <td>2</td>\n",
       "      <td>1</td>\n",
       "      <td>2</td>\n",
       "      <td>Low Adhe</td>\n",
       "    </tr>\n",
       "  </tbody>\n",
       "</table>\n",
       "</div>"
      ],
      "text/plain": [
       "   Dificulty  Forgeting  Discontinue  Stop_ADR  Stop_witDr  \\\n",
       "0          3          2            3         3           3   \n",
       "1          2          3            2         2           3   \n",
       "2          3          3            2         3           3   \n",
       "3          2          3            3         2           3   \n",
       "4          3          2            2         3           3   \n",
       "\n",
       "   Discontinuing-OtherMed  hassel  Missing  Altering_  Money  Expensive  \\\n",
       "0                       2       2        2          2      1          1   \n",
       "1                       2       2        2          1      2          1   \n",
       "2                       2       2        2          2      2          3   \n",
       "3                       2       2        3          3      2          2   \n",
       "4                       1       2        1          2      1          2   \n",
       "\n",
       "  Level_Cat  \n",
       "0  Low Adhe  \n",
       "1  Low Adhe  \n",
       "2  High Adh  \n",
       "3  High Adh  \n",
       "4  Low Adhe  "
      ]
     },
     "execution_count": 4,
     "metadata": {},
     "output_type": "execute_result"
    }
   ],
   "source": [
    "data = pd.read_excel(\"Medication_adherence_data.xlsx\")  \n",
    "data.head()"
   ]
  },
  {
   "cell_type": "code",
   "execution_count": 3,
   "id": "64425764",
   "metadata": {},
   "outputs": [
    {
     "name": "stdout",
     "output_type": "stream",
     "text": [
      "     Dificulty  Forgeting  Discontinue  Stop_ADR  Stop_witDr  \\\n",
      "0            3          2            3         3           3   \n",
      "1            2          3            2         2           3   \n",
      "2            3          3            2         3           3   \n",
      "3            2          3            3         2           3   \n",
      "4            3          2            2         3           3   \n",
      "..         ...        ...          ...       ...         ...   \n",
      "398          3          3            3         3           3   \n",
      "399          3          3            3         3           3   \n",
      "400          3          3            3         3           3   \n",
      "401          3          2            2         2           3   \n",
      "402          2          1            2         2           2   \n",
      "\n",
      "     Discontinuing-OtherMed  hassel  Missing  Altering_  Money  Expensive  \n",
      "0                         2       2        2          2      1          1  \n",
      "1                         2       2        2          1      2          1  \n",
      "2                         2       2        2          2      2          3  \n",
      "3                         2       2        3          3      2          2  \n",
      "4                         1       2        1          2      1          2  \n",
      "..                      ...     ...      ...        ...    ...        ...  \n",
      "398                       3       3        3          3      2          2  \n",
      "399                       3       3        3          3      3          3  \n",
      "400                       3       3        2          2      2          3  \n",
      "401                       1       1        2          2      1          1  \n",
      "402                       2       1        2          1      2          1  \n",
      "\n",
      "[403 rows x 11 columns]\n",
      "0      Low Adhe\n",
      "1      Low Adhe\n",
      "2      High Adh\n",
      "3      High Adh\n",
      "4      Low Adhe\n",
      "         ...   \n",
      "398    High Adh\n",
      "399    High Adh\n",
      "400    High Adh\n",
      "401    Low Adhe\n",
      "402    Low Adhe\n",
      "Name: Level_Cat, Length: 403, dtype: object\n"
     ]
    }
   ],
   "source": [
    "X = data.drop(\"Level_Cat\", axis=1)\n",
    "y = data['Level_Cat']\n",
    "print(X)\n",
    "print(y)"
   ]
  },
  {
   "cell_type": "code",
   "execution_count": null,
   "id": "48c5d168",
   "metadata": {},
   "outputs": [],
   "source": [
    "import matplotlib.pyplot as plt\n",
    "%matplotlib inline\n",
    "plt.xlabel('year')\n",
    "plt.ylabel('per capita income (US$)')\n",
    "plt.scatter(data['year'], data['per capita income (US$)'],color=\"green\",marker='+')"
   ]
  },
  {
   "cell_type": "code",
   "execution_count": 4,
   "id": "7328dc0c",
   "metadata": {},
   "outputs": [],
   "source": [
    "from sklearn.model_selection import train_test_split \n",
    "x_train, x_test,y_train, y_test = train_test_split(X,y,test_size=0.2)"
   ]
  },
  {
   "cell_type": "code",
   "execution_count": 5,
   "id": "5a7d87ff",
   "metadata": {},
   "outputs": [
    {
     "name": "stdout",
     "output_type": "stream",
     "text": [
      "1.0\n",
      "[[-1.17001327 -2.24364097 -1.0541119  -0.41714669 -1.53817316 -1.73868803\n",
      "  -1.52311516 -1.14027747 -1.67219883 -0.90283475 -1.33053057]]\n",
      "[34.70207613]\n"
     ]
    }
   ],
   "source": [
    "from sklearn.linear_model import LogisticRegression\n",
    "from sklearn.metrics import accuracy_score\n",
    "model = LogisticRegression()\n",
    "model.fit(x_train, y_train)\n",
    "\n",
    "y_pred = model.predict(x_test)\n",
    "accuracy_score=accuracy_score(y_test,y_pred)\n",
    "print(accuracy_score)\n",
    "\n",
    "print(model.coef_)\n",
    "print(model.intercept_)"
   ]
  },
  {
   "cell_type": "code",
   "execution_count": 6,
   "id": "d3820db4",
   "metadata": {},
   "outputs": [
    {
     "name": "stderr",
     "output_type": "stream",
     "text": [
      "C:\\ProgramData\\anaconda3\\lib\\site-packages\\sklearn\\base.py:420: UserWarning: X does not have valid feature names, but LogisticRegression was fitted with feature names\n",
      "  warnings.warn(\n"
     ]
    },
    {
     "data": {
      "text/plain": [
       "array(['Low Adhe'], dtype=object)"
      ]
     },
     "execution_count": 6,
     "metadata": {},
     "output_type": "execute_result"
    }
   ],
   "source": [
    "model.predict([[1,2,2,2,3,3,2,3,3,1,2]])"
   ]
  },
  {
   "cell_type": "code",
   "execution_count": 7,
   "id": "0e8c60ba",
   "metadata": {},
   "outputs": [
    {
     "name": "stderr",
     "output_type": "stream",
     "text": [
      "C:\\ProgramData\\anaconda3\\lib\\site-packages\\sklearn\\base.py:420: UserWarning: X does not have valid feature names, but LogisticRegression was fitted with feature names\n",
      "  warnings.warn(\n"
     ]
    },
    {
     "data": {
      "text/plain": [
       "array(['High Adh'], dtype=object)"
      ]
     },
     "execution_count": 7,
     "metadata": {},
     "output_type": "execute_result"
    }
   ],
   "source": [
    "model.predict([[5,2,2,2,3,3,2,6,3,1,2]])"
   ]
  },
  {
   "cell_type": "code",
   "execution_count": 9,
   "id": "6d9f2ff6",
   "metadata": {},
   "outputs": [
    {
     "data": {
      "text/plain": [
       "array([[21,  0],\n",
       "       [ 0, 60]], dtype=int64)"
      ]
     },
     "execution_count": 9,
     "metadata": {},
     "output_type": "execute_result"
    }
   ],
   "source": [
    "from sklearn.metrics import confusion_matrix\n",
    "cm = confusion_matrix(y_test,y_pred)\n",
    "cm"
   ]
  },
  {
   "cell_type": "code",
   "execution_count": 10,
   "id": "00e27b3a",
   "metadata": {},
   "outputs": [
    {
     "data": {
      "text/plain": [
       "Text(95.72222222222221, 0.5, 'Truth')"
      ]
     },
     "execution_count": 10,
     "metadata": {},
     "output_type": "execute_result"
    },
    {
     "data": {
      "image/png": "[encoded data removed]",
      "text/plain": [
       "<Figure size 1000x700 with 2 Axes>"
      ]
     },
     "metadata": {},
     "output_type": "display_data"
    }
   ],
   "source": [
    "%matplotlib inline\n",
    "import matplotlib.pyplot as plt\n",
    "import seaborn as sn\n",
    "plt.figure(figsize=(10,7))\n",
    "sn.heatmap(cm, annot=True)\n",
    "plt.xlabel('Predicted')\n",
    "plt.ylabel('Truth')"
   ]
  },
  {
   "cell_type": "code",
   "execution_count": null,
   "id": "aebc97cc",
   "metadata": {},
   "outputs": [],
   "source": []
  }
 ],
 "metadata": {
  "kernelspec": {
   "display_name": "Python 3 (ipykernel)",
   "language": "python",
   "name": "python3"
  },
  "language_info": {
   "codemirror_mode": {
    "name": "ipython",
    "version": 3
   },
   "file_extension": ".py",
   "mimetype": "text/x-python",
   "name": "python",
   "nbconvert_exporter": "python",
   "pygments_lexer": "ipython3",
   "version": "3.10.9"
  }
 },
 "nbformat": 4,
 "nbformat_minor": 5
}
