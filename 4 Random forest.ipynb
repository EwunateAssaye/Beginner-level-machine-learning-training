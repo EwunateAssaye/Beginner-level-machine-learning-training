{
 "cells": [
  {
   "cell_type": "code",
   "execution_count": 1,
   "id": "655f3299",
   "metadata": {},
   "outputs": [
    {
     "data": {
      "text/html": [
       "<div>\n",
       "<style scoped>\n",
       "    .dataframe tbody tr th:only-of-type {\n",
       "        vertical-align: middle;\n",
       "    }\n",
       "\n",
       "    .dataframe tbody tr th {\n",
       "        vertical-align: top;\n",
       "    }\n",
       "\n",
       "    .dataframe thead th {\n",
       "        text-align: right;\n",
       "    }\n",
       "</style>\n",
       "<table border=\"1\" class=\"dataframe\">\n",
       "  <thead>\n",
       "    <tr style=\"text-align: right;\">\n",
       "      <th></th>\n",
       "      <th>Dificulty</th>\n",
       "      <th>Forgeting</th>\n",
       "      <th>Discontinue</th>\n",
       "      <th>Stop_ADR</th>\n",
       "      <th>Stop_witDr</th>\n",
       "      <th>Discontinuing-OtherMed</th>\n",
       "      <th>hassel</th>\n",
       "      <th>Missing</th>\n",
       "      <th>Altering_</th>\n",
       "      <th>Money</th>\n",
       "      <th>Expensive</th>\n",
       "      <th>Level_Cat</th>\n",
       "    </tr>\n",
       "  </thead>\n",
       "  <tbody>\n",
       "    <tr>\n",
       "      <th>0</th>\n",
       "      <td>3</td>\n",
       "      <td>2</td>\n",
       "      <td>3</td>\n",
       "      <td>3</td>\n",
       "      <td>3</td>\n",
       "      <td>2</td>\n",
       "      <td>2</td>\n",
       "      <td>2</td>\n",
       "      <td>2</td>\n",
       "      <td>1</td>\n",
       "      <td>1</td>\n",
       "      <td>Low Adhe</td>\n",
       "    </tr>\n",
       "    <tr>\n",
       "      <th>1</th>\n",
       "      <td>2</td>\n",
       "      <td>3</td>\n",
       "      <td>2</td>\n",
       "      <td>2</td>\n",
       "      <td>3</td>\n",
       "      <td>2</td>\n",
       "      <td>2</td>\n",
       "      <td>2</td>\n",
       "      <td>1</td>\n",
       "      <td>2</td>\n",
       "      <td>1</td>\n",
       "      <td>Low Adhe</td>\n",
       "    </tr>\n",
       "    <tr>\n",
       "      <th>2</th>\n",
       "      <td>3</td>\n",
       "      <td>3</td>\n",
       "      <td>2</td>\n",
       "      <td>3</td>\n",
       "      <td>3</td>\n",
       "      <td>2</td>\n",
       "      <td>2</td>\n",
       "      <td>2</td>\n",
       "      <td>2</td>\n",
       "      <td>2</td>\n",
       "      <td>3</td>\n",
       "      <td>High Adh</td>\n",
       "    </tr>\n",
       "    <tr>\n",
       "      <th>3</th>\n",
       "      <td>2</td>\n",
       "      <td>3</td>\n",
       "      <td>3</td>\n",
       "      <td>2</td>\n",
       "      <td>3</td>\n",
       "      <td>2</td>\n",
       "      <td>2</td>\n",
       "      <td>3</td>\n",
       "      <td>3</td>\n",
       "      <td>2</td>\n",
       "      <td>2</td>\n",
       "      <td>High Adh</td>\n",
       "    </tr>\n",
       "    <tr>\n",
       "      <th>4</th>\n",
       "      <td>3</td>\n",
       "      <td>2</td>\n",
       "      <td>2</td>\n",
       "      <td>3</td>\n",
       "      <td>3</td>\n",
       "      <td>1</td>\n",
       "      <td>2</td>\n",
       "      <td>1</td>\n",
       "      <td>2</td>\n",
       "      <td>1</td>\n",
       "      <td>2</td>\n",
       "      <td>Low Adhe</td>\n",
       "    </tr>\n",
       "  </tbody>\n",
       "</table>\n",
       "</div>"
      ],
      "text/plain": [
       "   Dificulty  Forgeting  Discontinue  Stop_ADR  Stop_witDr  \\\n",
       "0          3          2            3         3           3   \n",
       "1          2          3            2         2           3   \n",
       "2          3          3            2         3           3   \n",
       "3          2          3            3         2           3   \n",
       "4          3          2            2         3           3   \n",
       "\n",
       "   Discontinuing-OtherMed  hassel  Missing  Altering_  Money  Expensive  \\\n",
       "0                       2       2        2          2      1          1   \n",
       "1                       2       2        2          1      2          1   \n",
       "2                       2       2        2          2      2          3   \n",
       "3                       2       2        3          3      2          2   \n",
       "4                       1       2        1          2      1          2   \n",
       "\n",
       "  Level_Cat  \n",
       "0  Low Adhe  \n",
       "1  Low Adhe  \n",
       "2  High Adh  \n",
       "3  High Adh  \n",
       "4  Low Adhe  "
      ]
     },
     "execution_count": 1,
     "metadata": {},
     "output_type": "execute_result"
    }
   ],
   "source": [
    "import pandas as pd\n",
    "data = pd.read_csv(\"C:/Users/Ewunetie/OneDrive - University of Gondar,/2022-2023 files/Research/Ashenafi/Machine Learning.csv\")  \n",
    "data.head()"
   ]
  },
  {
   "cell_type": "code",
   "execution_count": null,
   "id": "cb3067a9",
   "metadata": {},
   "outputs": [],
   "source": [
    "import matplotlib.pyplot as plt\n",
    "%matplotlib inline\n",
    "plt.xlabel('year')\n",
    "plt.ylabel('per capita income (US$)')\n",
    "plt.scatter(data['year'], data['per capita income (US$)'],color=\"green\",marker='+')"
   ]
  },
  {
   "cell_type": "code",
   "execution_count": null,
   "id": "eb6f6f04",
   "metadata": {},
   "outputs": [],
   "source": [
    "from sklearn.preprocessing import LabelEncoder\n",
    "l=LabelEncoder()\n",
    "data['Level_Cat']=l.fit_transform(data.Level_Cat)\n",
    "data.head()"
   ]
  },
  {
   "cell_type": "code",
   "execution_count": null,
   "id": "49d311c8",
   "metadata": {},
   "outputs": [],
   "source": [
    "X = data.drop(\"Level_Cat\", axis=1)\n",
    "y = data['Level_Cat']\n",
    "\n",
    "from sklearn.model_selection import train_test_split \n",
    "x_train, x_test,y_train, y_test = train_test_split(X,y,test_size=0.2,random_state =50)"
   ]
  },
  {
   "cell_type": "code",
   "execution_count": null,
   "id": "fe8f22df",
   "metadata": {},
   "outputs": [],
   "source": [
    "from sklearn.ensemble import RandomForestClassifier\n",
    "from sklearn.metrics import roc_curve, auc,confusion_matrix,roc_auc_score,classification_report\n",
    "import os\n",
    "model = RandomForestClassifier(criterion='gini', max_depth=5,min_samples_split=4, min_samples_leaf=2)\n",
    "model.fit(x_train, y_train)\n",
    "\n",
    "y_train_pred = model.predict(x_train)\n",
    "train_accuracy = model.score(x_train, y_train)\n",
    "\n",
    "y_test_pred = model.predict(x_test)\n",
    "test_accuracy = model.score(x_test, y_test)\n",
    "\n",
    "False_positive_rate, True_positive_rate, threshold = roc_curve(y_test, y_test_pred)\n",
    "AUC_score = auc(False_positive_rate, True_positive_rate)\n",
    "\n",
    "print(model.score)"
   ]
  },
  {
   "cell_type": "code",
   "execution_count": null,
   "id": "4d37c53f",
   "metadata": {},
   "outputs": [],
   "source": [
    "classification_report = classification_report(y_test, y_test_pred)\n",
    "print(classification_report)"
   ]
  },
  {
   "cell_type": "code",
   "execution_count": null,
   "id": "f56c6ad0",
   "metadata": {},
   "outputs": [],
   "source": [
    "Evaluation_result = pd.DataFrame()\n",
    "Evaluation_result0 = {\n",
    "        'Modele_name': ['Random Forest Classifier'],\n",
    "        'train_accuracy': [train_accuracy],\n",
    "        'test_accuracy': [test_accuracy],\n",
    "        'AUC_score': [AUC_score] \n",
    "    }\n",
    "Evaluation_result0 = pd.DataFrame(Evaluation_result0)\n",
    "Evaluation_result=pd.concat([Evaluation_result,Evaluation_result0])\n",
    "Evaluation_result\n",
    "\n",
    "print(Evaluation_result)"
   ]
  },
  {
   "cell_type": "code",
   "execution_count": null,
   "id": "5d3e7d3b",
   "metadata": {},
   "outputs": [],
   "source": [
    "model.predict([[1,2,2,2,3,3,2,3,3,1,2]])"
   ]
  },
  {
   "cell_type": "code",
   "execution_count": null,
   "id": "6686d593",
   "metadata": {},
   "outputs": [],
   "source": [
    "from sklearn.metrics import confusion_matrix\n",
    "cm = confusion_matrix(y_test,y_pred)\n",
    "cm"
   ]
  },
  {
   "cell_type": "code",
   "execution_count": null,
   "id": "c2813216",
   "metadata": {},
   "outputs": [],
   "source": [
    "%matplotlib inline\n",
    "import matplotlib.pyplot as plt\n",
    "import seaborn as sn\n",
    "plt.figure(figsize=(10,7))\n",
    "sn.heatmap(cm, annot=True)\n",
    "plt.xlabel('Predicted')\n",
    "plt.ylabel('Truth')"
   ]
  }
 ],
 "metadata": {
  "kernelspec": {
   "display_name": "Python 3 (ipykernel)",
   "language": "python",
   "name": "python3"
  },
  "language_info": {
   "codemirror_mode": {
    "name": "ipython",
    "version": 3
   },
   "file_extension": ".py",
   "mimetype": "text/x-python",
   "name": "python",
   "nbconvert_exporter": "python",
   "pygments_lexer": "ipython3",
   "version": "3.10.9"
  }
 },
 "nbformat": 4,
 "nbformat_minor": 5
}
