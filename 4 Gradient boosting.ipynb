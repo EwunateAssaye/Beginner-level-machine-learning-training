{
 "cells": [
  {
   "cell_type": "code",
   "execution_count": null,
   "id": "4c13f7ad",
   "metadata": {},
   "outputs": [],
   "source": [
    "import pandas as pd\n",
    "data = pd.read_csv(\"C:/Users/Ewunetie/OneDrive - University of Gondar,/2022-2023 files/Research/Ashenafi/Machine Learning.csv\")  \n",
    "data.head()"
   ]
  },
  {
   "cell_type": "code",
   "execution_count": null,
   "id": "0092b3a9",
   "metadata": {},
   "outputs": [],
   "source": [
    "from sklearn.preprocessing import LabelEncoder\n",
    "l=LabelEncoder()\n",
    "data['Level_Cat']=l.fit_transform(data.Level_Cat)\n",
    "data.head()"
   ]
  },
  {
   "cell_type": "code",
   "execution_count": null,
   "id": "c22799c4",
   "metadata": {},
   "outputs": [],
   "source": [
    "import matplotlib.pyplot as plt\n",
    "%matplotlib inline\n",
    "plt.xlabel('year')\n",
    "plt.ylabel('per capita income (US$)')\n",
    "plt.scatter(data['year'], data['per capita income (US$)'],color=\"green\",marker='+')"
   ]
  },
  {
   "cell_type": "code",
   "execution_count": null,
   "id": "46377af2",
   "metadata": {},
   "outputs": [],
   "source": [
    "X = data.drop(\"Level_Cat\", axis=1)\n",
    "y = data['Level_Cat']\n",
    "\n",
    "from sklearn.model_selection import train_test_split \n",
    "x_train, x_test,y_train, y_test = train_test_split(X,y,test_size=0.2,random_state =50)"
   ]
  },
  {
   "cell_type": "code",
   "execution_count": null,
   "id": "2b4b80d5",
   "metadata": {},
   "outputs": [],
   "source": [
    "from sklearn.ensemble import GradientBoostingClassifier\n",
    "from sklearn.metrics import roc_curve, auc,confusion_matrix,roc_auc_score,classification_report\n",
    "import os\n",
    "model = GradientBoostingClassifier(loss='log_loss', learning_rate=0.001,min_samples_split=4, min_samples_leaf=2,\n",
    "                                           max_depth=5)\n",
    "model.fit(x_train, y_train)\n",
    "\n",
    "y_train_pred = model.predict(x_train)\n",
    "train_accuracy = model.score(x_train, y_train)\n",
    "\n",
    "y_test_pred = model.predict(x_test)\n",
    "test_accuracy = model.score(x_test, y_test)\n",
    "\n",
    "False_positive_rate, True_positive_rate, threshold = roc_curve(y_test, y_test_pred)\n",
    "AUC_score = auc(False_positive_rate, True_positive_rate)\n",
    "\n",
    "# print(model.get_depth)\n",
    "# print(model.get_n_leaves)"
   ]
  },
  {
   "cell_type": "code",
   "execution_count": null,
   "id": "a484e4f5",
   "metadata": {},
   "outputs": [],
   "source": [
    "classification_report = classification_report(y_test, y_test_pred)\n",
    "print(classification_report)"
   ]
  },
  {
   "cell_type": "code",
   "execution_count": null,
   "id": "f2745194",
   "metadata": {},
   "outputs": [],
   "source": [
    "Evaluation_result = pd.DataFrame()\n",
    "Evaluation_result0 = {\n",
    "        'Modele_name': ['Extreme Gradient Boost Classifier'],\n",
    "        'train_accuracy': [train_accuracy],\n",
    "        'test_accuracy': [test_accuracy],\n",
    "        'AUC_score': [AUC_score] \n",
    "    }\n",
    "Evaluation_result0 = pd.DataFrame(Evaluation_result0)\n",
    "Evaluation_result=pd.concat([Evaluation_result,Evaluation_result0])\n",
    "Evaluation_result\n",
    "\n",
    "print(Evaluation_result)"
   ]
  },
  {
   "cell_type": "code",
   "execution_count": null,
   "id": "f3235ba2",
   "metadata": {},
   "outputs": [],
   "source": [
    "model.predict([[1,2,2,2,3,3,2,3,3,1,2]])"
   ]
  },
  {
   "cell_type": "code",
   "execution_count": null,
   "id": "485bc16d",
   "metadata": {},
   "outputs": [],
   "source": [
    "from sklearn.metrics import confusion_matrix\n",
    "cm = confusion_matrix(y_test,y_pred)\n",
    "cm"
   ]
  },
  {
   "cell_type": "code",
   "execution_count": null,
   "id": "6f76196f",
   "metadata": {},
   "outputs": [],
   "source": [
    "%matplotlib inline\n",
    "import matplotlib.pyplot as plt\n",
    "import seaborn as sn\n",
    "plt.figure(figsize=(10,7))\n",
    "sn.heatmap(cm, annot=True)\n",
    "plt.xlabel('Predicted')\n",
    "plt.ylabel('Truth')"
   ]
  }
 ],
 "metadata": {
  "kernelspec": {
   "display_name": "Python 3 (ipykernel)",
   "language": "python",
   "name": "python3"
  },
  "language_info": {
   "codemirror_mode": {
    "name": "ipython",
    "version": 3
   },
   "file_extension": ".py",
   "mimetype": "text/x-python",
   "name": "python",
   "nbconvert_exporter": "python",
   "pygments_lexer": "ipython3",
   "version": "3.10.9"
  }
 },
 "nbformat": 4,
 "nbformat_minor": 5
}
